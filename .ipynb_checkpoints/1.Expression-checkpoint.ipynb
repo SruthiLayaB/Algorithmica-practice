{
 "cells": [
  {
   "cell_type": "code",
   "execution_count": null,
   "id": "3455f421",
   "metadata": {},
   "outputs": [],
   "source": [
    "#Mailing Address\n",
    "\n",
    "Name = \"Sruthi laya\"\n",
    "Address = \"MIG 348,Balaji Nagar,Kukatpally,Hyderabad,Telangana\"\n",
    "print(Name)\n",
    "print(Address)"
   ]
  },
  {
   "cell_type": "code",
   "execution_count": null,
   "id": "340a2145",
   "metadata": {},
   "outputs": [],
   "source": [
    "#hello\n",
    "N = input()\n",
    "print(\"hello \" + N)"
   ]
  },
  {
   "cell_type": "code",
   "execution_count": null,
   "id": "2fc376a9",
   "metadata": {},
   "outputs": [],
   "source": [
    "#Area of the room\n",
    "l = float(input())\n",
    "b = float(input())\n",
    "print(l*b ,\"sqcm\")"
   ]
  },
  {
   "cell_type": "code",
   "execution_count": null,
   "id": "ff778ce3",
   "metadata": {},
   "outputs": [],
   "source": [
    "import math\n",
    "#Area of Triangle\n",
    "s1 = int(input())\n",
    "s2 = int(input())\n",
    "s3 = int(input())\n",
    "s = (s1+s2+s3)/ 2\n",
    "print(math.sqrt(s*(s-s1)*(s-s2)*(s-s3)))"
   ]
  },
  {
   "cell_type": "code",
   "execution_count": null,
   "id": "b2861066",
   "metadata": {},
   "outputs": [],
   "source": [
    "#Bottle deposits\n",
    "a,b = map(int,input().split())\n",
    "print(\"$\",0.1*(a)+0.3*(b))"
   ]
  },
  {
   "cell_type": "code",
   "execution_count": null,
   "id": "ffa9e701",
   "metadata": {},
   "outputs": [],
   "source": [
    "#Sum of First positive numbers\n",
    "n = int(input())\n",
    "nsum = ((n*(n +1))/2)\n",
    "print(\"{:12.2f}\".format(nsum))"
   ]
  },
  {
   "cell_type": "code",
   "execution_count": null,
   "id": "f9c37549",
   "metadata": {},
   "outputs": [],
   "source": [
    "#Tax and Tip\n",
    "n = int(input())\n",
    "Tax = (18/n) * 100\n",
    "Tip = (5/n) * 100\n",
    "print(\"{:12.2f}\".format(n + Tax + Tip))\n",
    "\n",
    "\n"
   ]
  },
  {
   "cell_type": "code",
   "execution_count": null,
   "id": "6c6bdd58",
   "metadata": {},
   "outputs": [],
   "source": [
    "#Compound interest\n",
    "I = float(input())\n",
    "for i in range(0,3):\n",
    "    CI = I + (4/I)*100\n",
    "    print(\"{:12.2f}\".format(CI))\n",
    "    I = CI"
   ]
  },
  {
   "cell_type": "code",
   "execution_count": null,
   "id": "aa2158c1",
   "metadata": {},
   "outputs": [],
   "source": [
    "#Distance units\n",
    "n = int(input())\n",
    "Inches = 12 * n\n",
    "yard = n *  0.3333333333\n",
    "miles = n/5280\n",
    "print(\"{:12.2f}\".format(Inches))\n",
    "print(\"{:12.2f}\".format(yard))\n",
    "print(\"{:12.2f}\".format(miles))"
   ]
  },
  {
   "cell_type": "code",
   "execution_count": null,
   "id": "33a8c3ff",
   "metadata": {},
   "outputs": [],
   "source": [
    "#Areaand volume\n",
    "r = int(input())\n",
    "Area = 3.14*r*r\n",
    "print(\"{:12.2f}\".format(Area))\n",
    "Volume = Area * r\n",
    "print(\"{:12.2f}\".format(Volume))"
   ]
  },
  {
   "cell_type": "code",
   "execution_count": null,
   "id": "32f60358",
   "metadata": {},
   "outputs": [],
   "source": [
    "import math\n",
    "#freefall\n",
    "d = int(input())\n",
    "v = math.sqrt(9.8*2*d)\n",
    "print(\"{:12.2f}\".format(d))"
   ]
  },
  {
   "cell_type": "code",
   "execution_count": null,
   "id": "85a57179",
   "metadata": {},
   "outputs": [],
   "source": [
    "#Units of Time\n",
    "N = int(input())\n",
    "D = N // 86400\n",
    "R1 = N % 86400\n",
    "HH = R1 // 3600\n",
    "R = R1 % 3600\n",
    "MM = R // 60\n",
    "SS = R % 60\n",
    "print(str(D).zfill(2),\":\",str(HH).zfill(2),\":\",str(MM).zfill(2),\":\",str(SS).zfill(2))"
   ]
  },
  {
   "cell_type": "code",
   "execution_count": null,
   "id": "a45bc603",
   "metadata": {},
   "outputs": [],
   "source": [
    "#Sum of the Digits in an Integer\n",
    "N = int(input())\n",
    "l = []\n",
    "while(N > 0):\n",
    "    D = N % 10\n",
    "    l.append(D)\n",
    "    N = N //10\n",
    "print(sum(l))\n"
   ]
  },
  {
   "cell_type": "markdown",
   "id": "a1e6b797",
   "metadata": {},
   "source": []
  },
  {
   "cell_type": "code",
   "execution_count": null,
   "id": "2009c2bd",
   "metadata": {},
   "outputs": [],
   "source": [
    "\n"
   ]
  },
  {
   "cell_type": "code",
   "execution_count": null,
   "id": "d3965394",
   "metadata": {},
   "outputs": [],
   "source": []
  },
  {
   "cell_type": "code",
   "execution_count": null,
   "id": "4a52d3c1",
   "metadata": {},
   "outputs": [],
   "source": []
  }
 ],
 "metadata": {
  "kernelspec": {
   "display_name": "Python 3",
   "language": "python",
   "name": "python3"
  },
  "language_info": {
   "codemirror_mode": {
    "name": "ipython",
    "version": 3
   },
   "file_extension": ".py",
   "mimetype": "text/x-python",
   "name": "python",
   "nbconvert_exporter": "python",
   "pygments_lexer": "ipython3",
   "version": "3.8.8"
  }
 },
 "nbformat": 4,
 "nbformat_minor": 5
}
