{
 "cells": [
  {
   "cell_type": "code",
   "execution_count": 14,
   "id": "e2e5724e",
   "metadata": {},
   "outputs": [
    {
     "name": "stdout",
     "output_type": "stream",
     "text": [
      "hello\n",
      "13\n"
     ]
    }
   ],
   "source": [
    "#Text messaging\n",
    "s = input()\n",
    "s = s.upper()\n",
    "def countKeyPressesForText(s):\n",
    "    presses = 0\n",
    "    keys = {\".\":1,\",\":2,\"?\":3,\"!\":4,\":\":5,\"A\":1,\"B\":2,\"C\":3,\"D\":1,\"E\":2,\"F\":3,\"G\":1,\"H\":2,\"I\":3,\"J\":1,\"K\":2,\"L\":3,\"M\":1,\"N\":2,\"O\":3,\"P\":1,\"Q\":2,\"R\":3,\"S\":4,\"T\":1,\"U\":2,\"V\":3,\"W\":1,\"X\":2,\"Y\":3,\"Z\":4,\" \":1}\n",
    "    for x in s:\n",
    "        for i in keys:\n",
    "            if(i == x):\n",
    "                presses += keys[i]\n",
    "    return presses\n",
    "print(countKeyPressesForText(s))\n",
    "        \n",
    "    \n"
   ]
  },
  {
   "cell_type": "code",
   "execution_count": 32,
   "id": "f34b9877",
   "metadata": {},
   "outputs": [
    {
     "name": "stdout",
     "output_type": "stream",
     "text": [
      "IXCCDM\n",
      "1489\n"
     ]
    }
   ],
   "source": [
    "#Roman to Integer\n",
    "s = input()\n",
    "def romanToInt(s):\n",
    "        values = 0\n",
    "        symbol = {\"I\":1,\"V\":5,\"X\":10,\"L\":50,\"C\":100,\"D\":500,\"M\":1000}\n",
    "        values += symbol[s[0]]\n",
    "        for j in range(1,len(s)):\n",
    "            \n",
    "            for x in symbol:\n",
    "                if(x == s[j]):\n",
    "                    if(s[j] == \"V\" or s[j] == \"X\"):\n",
    "                        if(s[j-1] == \"I\"):\n",
    "                            values += symbol[x] - 2\n",
    "                            break\n",
    "                        else:\n",
    "                            values += symbol[x]\n",
    "                            break\n",
    "\n",
    "                   \n",
    "                    if(s[j] == \"L\" or  s[j] == \"C\"):\n",
    "                        if(s[j-1] == \"X\"):\n",
    "                            values += symbol[x] - 20\n",
    "                            break\n",
    "                        else:\n",
    "                            values += symbol[x]\n",
    "                            break\n",
    "                    if(s[j] == \"D\" or  s[j] == \"M\"):\n",
    "                        if(s[j-1] == \"C\"):\n",
    "                            values += symbol[x] - 200\n",
    "                            break\n",
    "                        else:\n",
    "                            values += symbol[x]\n",
    "                            break\n",
    "                       \n",
    "                    else:\n",
    "                        values += symbol[x]\n",
    "\n",
    "                    \n",
    "        return values\n",
    "print(romanToInt(s))"
   ]
  },
  {
   "cell_type": "code",
   "execution_count": 7,
   "id": "dee3109c",
   "metadata": {},
   "outputs": [
    {
     "name": "stdout",
     "output_type": "stream",
     "text": [
      "input file name:sruthi.txt\n",
      "{'a': 100, 'b': 14, 'c': 31, 'd': 32, 'e': 219, 'f': 25, 'g': 17, 'h': 70, 'i': 92, 'j': 4, 'k': 6, 'l': 40, 'm': 26, 'n': 76, 'o': 92, 'p': 33, 'q': 0, 'r': 98, 's': 143, 't': 146, 'u': 33, 'v': 24, 'w': 33, 'x': 4, 'y': 40, 'z': 0}\n"
     ]
    }
   ],
   "source": [
    "#Letter frequencies\n",
    "def letterFrequencies(in_name):\n",
    "    inf = open(in_name, \"r\")\n",
    "    linesList= inf.readlines()\n",
    "    \n",
    "    keys = {'a': 0, 'b': 0, 'c': 0, 'd': 0, 'e': 0, 'f': 0, 'g': 0, 'h': 0, 'i': 0, 'j': 0, 'k': 0, 'l': 0, 'm': 0, 'n': 0, 'o': 0, 'p': 0, 'q': 0, 'r': 0, 's': 0, 't': 0, 'u': 0, 'v': 0, 'w': 0, 'x': 0, 'y': 0, 'z': 0}\n",
    "    for line in linesList:\n",
    "        for x in line:\n",
    "            for y in keys:\n",
    "                if(x == y):\n",
    "                    keys[y]+= 1\n",
    "    return keys\n",
    "    inf.close()\n",
    "\n",
    "in_name = input(\"input file name:\")\n",
    "print(letterFrequencies(in_name))\n",
    "\n"
   ]
  },
  {
   "cell_type": "code",
   "execution_count": null,
   "id": "e6cb7c5f",
   "metadata": {},
   "outputs": [],
   "source": []
  },
  {
   "cell_type": "code",
   "execution_count": null,
   "id": "3676704b",
   "metadata": {},
   "outputs": [],
   "source": []
  }
 ],
 "metadata": {
  "kernelspec": {
   "display_name": "Python 3",
   "language": "python",
   "name": "python3"
  },
  "language_info": {
   "codemirror_mode": {
    "name": "ipython",
    "version": 3
   },
   "file_extension": ".py",
   "mimetype": "text/x-python",
   "name": "python",
   "nbconvert_exporter": "python",
   "pygments_lexer": "ipython3",
   "version": "3.8.8"
  }
 },
 "nbformat": 4,
 "nbformat_minor": 5
}
