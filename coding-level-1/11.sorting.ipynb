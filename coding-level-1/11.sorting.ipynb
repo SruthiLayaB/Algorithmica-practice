{
 "cells": [
  {
   "cell_type": "code",
   "execution_count": 9,
   "id": "b2b46c6e",
   "metadata": {},
   "outputs": [
    {
     "name": "stdout",
     "output_type": "stream",
     "text": [
      "5\n",
      "1\n",
      "7\n",
      "3\n",
      "6\n",
      "3\n",
      "[7, 6, 3, 3, 1]\n"
     ]
    }
   ],
   "source": [
    "#sorting in Descending order\n",
    "n = int(input())\n",
    "l = []\n",
    "for i in range(n):\n",
    "    x = int(input())\n",
    "    l.append(x)\n",
    "\n",
    "def sortIntegersDesc(l):\n",
    "    l.sort(reverse=True)\n",
    "    return l\n",
    "print(sortIntegersDesc(l))\n",
    "    "
   ]
  },
  {
   "cell_type": "code",
   "execution_count": 10,
   "id": "996e10a4",
   "metadata": {},
   "outputs": [
    {
     "name": "stdout",
     "output_type": "stream",
     "text": [
      "4\n",
      "cars\n",
      "bikess\n",
      "sruthi\n",
      "one\n",
      "['bikess', 'sruthi', 'cars', 'one']\n"
     ]
    }
   ],
   "source": [
    "#String sorting - 1\n",
    "n = int(input())\n",
    "l = []\n",
    "for i in range(n):\n",
    "    x = input()\n",
    "    l.append(x)\n",
    "def lenString(e):\n",
    "    return len(e)\n",
    "def sortStrings(l):\n",
    "    l.sort(key=lenString,reverse = True)\n",
    "    return l\n",
    "print(sortStrings(l))\n"
   ]
  },
  {
   "cell_type": "code",
   "execution_count": 17,
   "id": "a5ae08b5",
   "metadata": {},
   "outputs": [
    {
     "name": "stdout",
     "output_type": "stream",
     "text": [
      "cs.iitg.edu\n",
      "edu.iitg.cs\n"
     ]
    }
   ],
   "source": [
    "#String sorting - 1\n",
    "s = input()\n",
    "def sortDomains(s):\n",
    "    rstring =\"\" \n",
    "    l = s.split('.')\n",
    "    l.reverse()\n",
    "    for x in l:\n",
    "        rstring +=  x + \".\"\n",
    "    return rstring[0:len(rstring)-1]\n",
    "print(sortDomains(s))"
   ]
  },
  {
   "cell_type": "code",
   "execution_count": 29,
   "id": "6373f273",
   "metadata": {},
   "outputs": [
    {
     "name": "stdout",
     "output_type": "stream",
     "text": [
      "[1, 12, 30, 33, 41]\n"
     ]
    }
   ],
   "source": [
    "import random\n",
    "def randomLotteryNumbers():\n",
    "    rlist = []\n",
    "    for i in range(0,5):\n",
    "        r = random.randint(1,49)\n",
    "        if r not in rlist:\n",
    "            rlist.append(r)\n",
    "    rlist.sort()\n",
    "    return rlist\n",
    "print(randomLotteryNumbers())\n",
    "            "
   ]
  },
  {
   "cell_type": "code",
   "execution_count": 40,
   "id": "9a49bbd6",
   "metadata": {},
   "outputs": [
    {
     "name": "stdout",
     "output_type": "stream",
     "text": [
      "8\n",
      "2\n",
      "9\n",
      "2\n",
      "3\n",
      "6\n",
      "5\n",
      "4\n",
      "7\n",
      "3\n",
      "['3', '4', '5', '6']\n"
     ]
    }
   ],
   "source": [
    "#Remvoing Outliers\n",
    "length = int(input())\n",
    "n = int(input())\n",
    "l = []\n",
    "for i in range(length):\n",
    "    x = input()\n",
    "    l.append(x)\n",
    "def removeoutliers(l):\n",
    "    l.sort()\n",
    "    s = l[n:len(l)-n]\n",
    "    \n",
    "    return s\n",
    "print(removeoutliers(l))"
   ]
  }
 ],
 "metadata": {
  "kernelspec": {
   "display_name": "Python 3",
   "language": "python",
   "name": "python3"
  },
  "language_info": {
   "codemirror_mode": {
    "name": "ipython",
    "version": 3
   },
   "file_extension": ".py",
   "mimetype": "text/x-python",
   "name": "python",
   "nbconvert_exporter": "python",
   "pygments_lexer": "ipython3",
   "version": "3.8.8"
  }
 },
 "nbformat": 4,
 "nbformat_minor": 5
}
