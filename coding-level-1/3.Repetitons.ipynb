{
 "cells": [
  {
   "cell_type": "code",
   "execution_count": 1,
   "id": "d9f61e1f",
   "metadata": {},
   "outputs": [
    {
     "name": "stdout",
     "output_type": "stream",
     "text": [
      "10\n",
      "55\n"
     ]
    }
   ],
   "source": [
    "#Sum of Integers\n",
    "n = int(input())\n",
    "sum = 0\n",
    "for i in range(n+1):\n",
    "    sum = sum + i\n",
    "print(sum)\n",
    "\n",
    "    "
   ]
  },
  {
   "cell_type": "code",
   "execution_count": 5,
   "id": "ba7883f0",
   "metadata": {},
   "outputs": [
    {
     "name": "stdout",
     "output_type": "stream",
     "text": [
      "abcd\n",
      "1 3\n"
     ]
    }
   ],
   "source": [
    "#Vowel and Consonant count\n",
    "s = input().lower()\n",
    "vcount = 0\n",
    "ccount = 0\n",
    "for i in range(len(s)):\n",
    "    if(s[i] == \"a\" or s[i] == \"e\"  or s[i] == \"i\" or s[i] == \"o\" or s[i] == \"u\"):\n",
    "        vcount += 1\n",
    "    else:\n",
    "        ccount += 1\n",
    "print(vcount,ccount)"
   ]
  },
  {
   "cell_type": "code",
   "execution_count": 6,
   "id": "b2a5a663",
   "metadata": {},
   "outputs": [
    {
     "name": "stdout",
     "output_type": "stream",
     "text": [
      "1234\n",
      "10\n"
     ]
    }
   ],
   "source": [
    "#sum of the digits\n",
    "N = int(input())\n",
    "sum1 = 0\n",
    "while(N > 0):\n",
    "    D = N % 10\n",
    "    N = N //10\n",
    "    sum1 += D\n",
    "print(sum1)"
   ]
  },
  {
   "cell_type": "code",
   "execution_count": 34,
   "id": "635e911f",
   "metadata": {},
   "outputs": [
    {
     "name": "stdout",
     "output_type": "stream",
     "text": [
      "1\n",
      "2\n",
      "3 fizz\n",
      "4\n",
      "5 buzz\n",
      "6 fizz\n",
      "7\n",
      "8\n",
      "9 fizz\n",
      "10 buzz\n",
      "11\n",
      "12 fizz\n",
      "13\n",
      "14\n",
      "15 fizz buzz\n",
      "16\n",
      "17\n",
      "18 fizz\n",
      "19\n",
      "20 buzz\n",
      "21 fizz\n",
      "22\n",
      "23\n",
      "24 fizz\n",
      "25 buzz\n",
      "26\n",
      "27 fizz\n",
      "28\n",
      "29\n",
      "30 fizz buzz\n",
      "31\n",
      "32\n",
      "33 fizz\n",
      "34\n",
      "35 buzz\n",
      "36 fizz\n",
      "37\n",
      "38\n",
      "39 fizz\n",
      "40 buzz\n",
      "41\n",
      "42 fizz\n",
      "43\n",
      "44\n",
      "45 fizz buzz\n",
      "46\n",
      "47\n",
      "48 fizz\n",
      "49\n",
      "50 buzz\n",
      "51 fizz\n",
      "52\n",
      "53\n",
      "54 fizz\n",
      "55 buzz\n",
      "56\n",
      "57 fizz\n",
      "58\n",
      "59\n",
      "60 fizz buzz\n",
      "61\n",
      "62\n",
      "63 fizz\n",
      "64\n",
      "65 buzz\n",
      "66 fizz\n",
      "67\n",
      "68\n",
      "69 fizz\n",
      "70 buzz\n",
      "71\n",
      "72 fizz\n",
      "73\n",
      "74\n",
      "75 fizz buzz\n",
      "76\n",
      "77\n",
      "78 fizz\n",
      "79\n",
      "80 buzz\n",
      "81 fizz\n",
      "82\n",
      "83\n",
      "84 fizz\n",
      "85 buzz\n",
      "86\n",
      "87 fizz\n",
      "88\n",
      "89\n",
      "90 fizz buzz\n",
      "91\n",
      "92\n",
      "93 fizz\n",
      "94\n",
      "95 buzz\n",
      "96 fizz\n",
      "97\n",
      "98\n",
      "99 fizz\n",
      "100 buzz\n"
     ]
    }
   ],
   "source": [
    "#Fizz Buzz\n",
    "for i in range(1,101):\n",
    "    if(i % 3 == 0 and i % 5 == 0):\n",
    "        print(i,\"fizz buzz\")\n",
    "    \n",
    "    elif(i % 3 == 0):\n",
    "        print(i,\"fizz\")\n",
    "    elif(i % 5 == 0):\n",
    "        print(i,\"buzz\")\n",
    "    else:\n",
    "        print(i)\n",
    "   "
   ]
  },
  {
   "cell_type": "code",
   "execution_count": 10,
   "id": "fe9348c8",
   "metadata": {},
   "outputs": [
    {
     "name": "stdout",
     "output_type": "stream",
     "text": [
      "10\n",
      "1\n",
      "3\n",
      "5\n",
      "7\n",
      "9\n",
      "11\n",
      "13\n",
      "15\n",
      "17\n",
      "19\n",
      "100\n"
     ]
    }
   ],
   "source": [
    "#sum of Odd integers\n",
    "n = int(input())\n",
    "sum1 = 0\n",
    "count = 0\n",
    "i = 1\n",
    "while(i >= 1):\n",
    "    if(i % 2 != 0):\n",
    "\n",
    "        sum1 += i\n",
    "        count += 1\n",
    "        if(count == n):\n",
    "            break\n",
    "    i+= 1\n",
    "print(sum1)\n",
    "        \n",
    "    "
   ]
  },
  {
   "cell_type": "code",
   "execution_count": 17,
   "id": "b8904ff7",
   "metadata": {},
   "outputs": [
    {
     "name": "stdout",
     "output_type": "stream",
     "text": [
      "ABCD\n",
      "1\n",
      " BCDE\n"
     ]
    }
   ],
   "source": [
    "#Ceaser Cipher\n",
    "s = input()\n",
    "code = \" \"\n",
    "k = int(input())\n",
    "for x in s:\n",
    "    if(ord(x) >= 65 and ord(x) <= 90):\n",
    "        pos = ord(x) - ord('A')\n",
    "        pos = (pos + k) % 26\n",
    "        code = code + chr(pos + ord(\"A\"))\n",
    "    if(ord(x) >= 97 and ord(x) <= 122):\n",
    "        pos = ord(x) - ord('a')\n",
    "        pos = (pos + k) % 26\n",
    "        code = code + chr(pos + ord(\"a\"))\n",
    "print(code)"
   ]
  },
  {
   "cell_type": "code",
   "execution_count": 21,
   "id": "e22140ea",
   "metadata": {},
   "outputs": [
    {
     "name": "stdout",
     "output_type": "stream",
     "text": [
      "16\n",
      "4.000000000000004\n"
     ]
    }
   ],
   "source": [
    "#square root\n",
    "x = int(input())\n",
    "guess = x/2\n",
    "while(abs((guess * guess)-x) >= 10 ** -12):\n",
    "    guess = (guess + x/guess) / 2\n",
    "print(guess)\n"
   ]
  },
  {
   "cell_type": "code",
   "execution_count": 27,
   "id": "060629b8",
   "metadata": {},
   "outputs": [
    {
     "name": "stdout",
     "output_type": "stream",
     "text": [
      "cencius      fahrenheit\n",
      "0             32.0\n",
      "10             50.0\n",
      "20             68.0\n",
      "30             86.0\n",
      "40             104.0\n",
      "50             122.0\n",
      "60             140.0\n",
      "70             158.0\n",
      "80             176.0\n",
      "90             194.0\n",
      "100             212.0\n"
     ]
    }
   ],
   "source": [
    "#Temperature Conversion Table\n",
    "cencius = 0\n",
    "print(\"cencius\", \"    \",\"fahrenheit\")\n",
    "while( cencius <= 100):\n",
    "    fahrenheit = cencius*1.8 + 32\n",
    "    print(cencius, \"           \",fahrenheit)\n",
    "    cencius += 10"
   ]
  },
  {
   "cell_type": "code",
   "execution_count": 29,
   "id": "75ff1e40",
   "metadata": {},
   "outputs": [
    {
     "name": "stdout",
     "output_type": "stream",
     "text": [
      "101\n",
      "5\n"
     ]
    }
   ],
   "source": [
    "#Binary to Decimal\n",
    "s = input()\n",
    "sum1 = 0\n",
    "for i in range(len(s)):\n",
    "    digit = int(s[i]) * (2 ** i)\n",
    "    sum1 += digit\n",
    "print(sum1)\n"
   ]
  },
  {
   "cell_type": "code",
   "execution_count": 32,
   "id": "5d1fa799",
   "metadata": {},
   "outputs": [
    {
     "name": "stdout",
     "output_type": "stream",
     "text": [
      "10\n",
      "1010 \n"
     ]
    }
   ],
   "source": [
    "#Decimal to Binary\n",
    "result = \" \"\n",
    "q = int(input())\n",
    "while(q > 0):\n",
    "    r = q % 2\n",
    "    q = q // 2\n",
    "    result = str(r) + result\n",
    "print(result)"
   ]
  },
  {
   "cell_type": "code",
   "execution_count": null,
   "id": "ee088ae9",
   "metadata": {},
   "outputs": [],
   "source": []
  }
 ],
 "metadata": {
  "kernelspec": {
   "display_name": "Python 3",
   "language": "python",
   "name": "python3"
  },
  "language_info": {
   "codemirror_mode": {
    "name": "ipython",
    "version": 3
   },
   "file_extension": ".py",
   "mimetype": "text/x-python",
   "name": "python",
   "nbconvert_exporter": "python",
   "pygments_lexer": "ipython3",
   "version": "3.8.8"
  }
 },
 "nbformat": 4,
 "nbformat_minor": 5
}
