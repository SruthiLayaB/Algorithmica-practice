{
 "cells": [
  {
   "cell_type": "code",
   "execution_count": 19,
   "id": "7076df18",
   "metadata": {
    "scrolled": true
   },
   "outputs": [
    {
     "name": "stdout",
     "output_type": "stream",
     "text": [
      "4\n",
      "*  \n",
      "* *  \n",
      "* * *  \n",
      "* * * *  \n"
     ]
    }
   ],
   "source": [
    "#Right Triangular Pattern\n",
    "n = int(input())\n",
    "for i in range(1, n + 1):\n",
    "    for j in range(1,i + 1):\n",
    "        print(\"*\" , end = \" \")\n",
    "    print(\" \")\n",
    "\n",
    "    "
   ]
  },
  {
   "cell_type": "code",
   "execution_count": 2,
   "id": "b63b0bd4",
   "metadata": {},
   "outputs": [
    {
     "name": "stdout",
     "output_type": "stream",
     "text": [
      "4\n",
      "         *   \n",
      "      *  *   \n",
      "   *  *  *   \n",
      "*  *  *  *   \n"
     ]
    }
   ],
   "source": [
    "#Left Triangular Pattern\n",
    "n = int(input())\n",
    "for i in range(1,n + 1 ):\n",
    "    for j in range(1 , n - i + 1):\n",
    "        print(\"  \", end = \" \")\n",
    "    for k in range(n - i + 1 , n+1):\n",
    "        print(\"* \", end = \" \")\n",
    "    print(' ')\n",
    "    \n"
   ]
  },
  {
   "cell_type": "code",
   "execution_count": 7,
   "id": "8316ed4c",
   "metadata": {},
   "outputs": [
    {
     "name": "stdout",
     "output_type": "stream",
     "text": [
      "4\n",
      "* * * *  \n",
      "* * *  \n",
      "* *  \n",
      "*  \n"
     ]
    }
   ],
   "source": [
    "#Downward Right Triangular Pattern\n",
    "n = int(input())\n",
    "for i in range(1,n+1):\n",
    "    for j in range(1,(n+1-i)+ 1):\n",
    "        print(\"* \",end = \" \")\n",
    "    print(\" \")\n",
    "    \n",
    "    \n",
    "  "
   ]
  },
  {
   "cell_type": "code",
   "execution_count": 15,
   "id": "fe300f90",
   "metadata": {},
   "outputs": [
    {
     "name": "stdout",
     "output_type": "stream",
     "text": [
      "4\n",
      "*  *  *  *   \n",
      "   *  *  *   \n",
      "      *  *   \n",
      "         *   \n"
     ]
    }
   ],
   "source": [
    "#Downward Left Triangular Pattern\n",
    "n = int(input())\n",
    "for i in range(0,n):\n",
    "    for j in range(0,i):\n",
    "        print(\"  \" , end = ' ')\n",
    "    for k in range(i,n):\n",
    "        print(\"* \", end = \" \")\n",
    "    print(' ')\n",
    "    \n"
   ]
  },
  {
   "cell_type": "markdown",
   "id": "8acf8608",
   "metadata": {},
   "source": []
  },
  {
   "cell_type": "code",
   "execution_count": 1,
   "id": "c3130933",
   "metadata": {},
   "outputs": [
    {
     "name": "stdout",
     "output_type": "stream",
     "text": [
      "4\n",
      "      *  \n",
      "    * * *  \n",
      "  * * * * *  \n",
      "* * * * * * *  \n"
     ]
    }
   ],
   "source": [
    "#Pyramid pattern\n",
    "n  = int(input())\n",
    "for i in range(1,n+1):\n",
    "    for j in range(0, n - i):\n",
    "        print(\" \", end= \" \")\n",
    "    for k in range(n-i, n):\n",
    "        print(\"*\", end= \" \")\n",
    "    for l in range(1,i):\n",
    "        print(\"*\", end= \" \")\n",
    "    print(\" \")\n",
    "    \n",
    "\n",
    "    "
   ]
  },
  {
   "cell_type": "code",
   "execution_count": 2,
   "id": "7b3a8616",
   "metadata": {},
   "outputs": [
    {
     "name": "stdout",
     "output_type": "stream",
     "text": [
      "4\n",
      "* * * * * * *  \n",
      "  * * * * *  \n",
      "    * * *  \n",
      "      *  \n"
     ]
    }
   ],
   "source": [
    "#Inverted Pyramid pattern\n",
    "n  = int(input())\n",
    "for i in range(0,n):\n",
    "    for j in range(0, i):\n",
    "        print(\" \", end= \" \")\n",
    "    for k in range(i, n):\n",
    "        print(\"*\", end= \" \")\n",
    "    for k in range(0,n-i-1):\n",
    "        print(\"*\", end= \" \")\n",
    "    print(\" \")\n",
    "\n",
    "    \n",
    "    "
   ]
  },
  {
   "cell_type": "code",
   "execution_count": 3,
   "id": "0d09245a",
   "metadata": {},
   "outputs": [
    {
     "name": "stdout",
     "output_type": "stream",
     "text": [
      "4\n",
      "   *\n",
      "  ***\n",
      " *****\n",
      "*******\n",
      " *****\n",
      "  ***\n",
      "   *\n"
     ]
    }
   ],
   "source": [
    "#Diamond pattern\n",
    "n  = int(input())\n",
    "for i in range(1,n):\n",
    "    for j in range(0, n - i):\n",
    "        print(\" \", end= \"\")\n",
    "    for k in range(n-i, n):\n",
    "        print(\"*\", end= \"\")\n",
    "    for l in range(1,i):\n",
    "        print(\"*\", end= \"\")\n",
    "    print(\"\")\n",
    "\n",
    "for i in range(0,n):\n",
    "    for j in range(0, i):\n",
    "        print(\" \", end= \"\" )\n",
    "    for k in range(i, n):\n",
    "        print(\"*\", end= \"\")\n",
    "    for k in range(0,n-i-1):\n",
    "        print(\"*\", end= \"\")\n",
    "    print(\"\")\n"
   ]
  },
  {
   "cell_type": "code",
   "execution_count": 6,
   "id": "c3b8fe2e",
   "metadata": {},
   "outputs": [
    {
     "name": "stdout",
     "output_type": "stream",
     "text": [
      "4\n",
      " *   *   *   *   \n",
      "   *   *   *   \n",
      "     *   *   \n",
      "       *   \n",
      "       *   \n",
      "     *   *   \n",
      "   *   *   *   \n",
      " *   *   *   *   \n"
     ]
    }
   ],
   "source": [
    "#Sand glass pattern\n",
    "n  = int(input())\n",
    "for i in range(0,n):\n",
    "    for j in range(0, i):\n",
    "        print(\" \", end= \" \")\n",
    "    for k in range(i, n):\n",
    "        print(\" * \", end= \" \")\n",
    "    \n",
    "    print(\" \")\n",
    "\n",
    "for i in range(1,n+1):\n",
    "    for j in range(0, n - i):\n",
    "        print(\" \", end= \" \")\n",
    "    for k in range(n-i, n):\n",
    "        print(\" * \", end= \" \")\n",
    "    \n",
    "    print(\" \")\n"
   ]
  },
  {
   "cell_type": "code",
   "execution_count": 7,
   "id": "4e376ba3",
   "metadata": {},
   "outputs": [
    {
     "name": "stdout",
     "output_type": "stream",
     "text": [
      "10\n",
      "        1    2    3    4    5    6    7    8    9   10  \n",
      "   1    1    2    3    4    5    6    7    8    9   10  \n",
      "   2    2    4    6    8   10   12   14   16   18   20  \n",
      "   3    3    6    9   12   15   18   21   24   27   30  \n",
      "   4    4    8   12   16   20   24   28   32   36   40  \n",
      "   5    5   10   15   20   25   30   35   40   45   50  \n",
      "   6    6   12   18   24   30   36   42   48   54   60  \n",
      "   7    7   14   21   28   35   42   49   56   63   70  \n",
      "   8    8   16   24   32   40   48   56   64   72   80  \n",
      "   9    9   18   27   36   45   54   63   72   81   90  \n",
      "  10   10   20   30   40   50   60   70   80   90   100  \n"
     ]
    }
   ],
   "source": [
    "#Multiplication table\n",
    "n = int(input())\n",
    "\n",
    "print(\"    \", end = \" \")\n",
    "for i in range(1,n + 1):\n",
    "    if(i < 10):\n",
    "        print(\"  \",i, end = \" \")\n",
    "    if(i == 10):\n",
    "        print(\" \",i, end = \" \")\n",
    "print(\" \")\n",
    "\n",
    "for i in range(1,n + 1):\n",
    "    if(i < 10):\n",
    "        print(\"  \",i, end = \" \")\n",
    "    if(i == 10):\n",
    "        print(\" \",i, end = \" \")\n",
    "    for j in range(1,n+1):\n",
    "        if(i *j < 10):\n",
    "            print(\"  \", j * i ,end = \" \")\n",
    "        if(i *j >= 10 and i*j <= 100):\n",
    "            print(\" \", j * i ,end = \" \")\n",
    "        \n",
    "        \n",
    "    print(\" \")\n"
   ]
  },
  {
   "cell_type": "code",
   "execution_count": null,
   "id": "61214a92",
   "metadata": {},
   "outputs": [],
   "source": []
  }
 ],
 "metadata": {
  "kernelspec": {
   "display_name": "Python 3",
   "language": "python",
   "name": "python3"
  },
  "language_info": {
   "codemirror_mode": {
    "name": "ipython",
    "version": 3
   },
   "file_extension": ".py",
   "mimetype": "text/x-python",
   "name": "python",
   "nbconvert_exporter": "python",
   "pygments_lexer": "ipython3",
   "version": "3.8.8"
  }
 },
 "nbformat": 4,
 "nbformat_minor": 5
}
