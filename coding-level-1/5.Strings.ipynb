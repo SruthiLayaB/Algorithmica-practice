{
 "cells": [
  {
   "cell_type": "code",
   "execution_count": 16,
   "id": "715936a9",
   "metadata": {},
   "outputs": [
    {
     "name": "stdout",
     "output_type": "stream",
     "text": [
      "abc005\n",
      "abc00\n"
     ]
    }
   ],
   "source": [
    "#Mystery Length\n",
    "import math\n",
    "string = input()\n",
    "def removeMysteryLength(string):\n",
    "    remove = math.ceil(math.log(len(string),10))\n",
    "    return string[0:len(string)-remove]\n",
    "print(removeMysteryLength(string))\n",
    "\n",
    "    "
   ]
  },
  {
   "cell_type": "code",
   "execution_count": 27,
   "id": "9f5a3ad5",
   "metadata": {},
   "outputs": [
    {
     "name": "stdout",
     "output_type": "stream",
     "text": [
      "sruthi\n",
      "Not Palindrome\n"
     ]
    }
   ],
   "source": [
    "#Palindrome Check\n",
    "string = input()\n",
    "string = \" \"+ string\n",
    "def isPalindrome(string):\n",
    "    count = 0\n",
    "    for i in range(1,len(string)//2):\n",
    "        if(string[i] != string[-i]):\n",
    "            count += 1\n",
    "    if(count != 0):\n",
    "        return (\"Not Palindrome\")\n",
    "    else:\n",
    "        return (\"Palindrome\")\n",
    "            \n",
    "print(isPalindrome(string))    "
   ]
  },
  {
   "cell_type": "code",
   "execution_count": 38,
   "id": "dde83d30",
   "metadata": {},
   "outputs": [
    {
     "name": "stdout",
     "output_type": "stream",
     "text": [
      "india is best\n",
      "best is india\n"
     ]
    }
   ],
   "source": [
    "#Reverse Words\n",
    "string = map(str,input().split(\" \"))\n",
    "l = list(string)\n",
    "print(*list(reversed(l)))"
   ]
  },
  {
   "cell_type": "code",
   "execution_count": 23,
   "id": "785ab41a",
   "metadata": {},
   "outputs": [
    {
     "name": "stdout",
     "output_type": "stream",
     "text": [
      "a\n",
      "a\n"
     ]
    }
   ],
   "source": [
    "#Encode Decode\n",
    "string = input()\n",
    "\n",
    "def decode(string):\n",
    "    A = ord(string)\n",
    "    return A\n",
    "\n",
    "def encode(n):\n",
    "    return chr(n)\n",
    "\n",
    "print(encode(decode(string)))\n"
   ]
  },
  {
   "cell_type": "code",
   "execution_count": 19,
   "id": "04f23421",
   "metadata": {},
   "outputs": [
    {
     "name": "stdout",
     "output_type": "stream",
     "text": [
      "abcdd\n",
      "3\n",
      "defgg\n"
     ]
    }
   ],
   "source": [
    "#Caesar Cipher\n",
    "string = input()\n",
    "k = int(input())\n",
    "\n",
    "def encryptWithCaser(string,k):\n",
    "    code = \"\"\n",
    "    for x in string:\n",
    "        if(ord(x) >= 65 and ord(x) <= 90):\n",
    "            pos = ord(x) - ord('A')\n",
    "            pos = (pos +k) % 26\n",
    "            code = code + chr(pos + ord(\"A\"))\n",
    "        if(ord(x) >= 97 and ord(x) <= 122):\n",
    "            pos = ord(x) - ord('a')\n",
    "            pos = (pos + k) % 26\n",
    "            code = code + chr(pos + ord(\"a\"))\n",
    "    return code\n",
    "print(encryptWithCaser(string,k))\n",
    "    "
   ]
  },
  {
   "cell_type": "code",
   "execution_count": 15,
   "id": "69bc69e3",
   "metadata": {},
   "outputs": [
    {
     "name": "stdout",
     "output_type": "stream",
     "text": [
      "\"abc123\n",
      "False\n"
     ]
    }
   ],
   "source": [
    "#Does the string represent valid integer\n",
    "n = input()\n",
    "def isInteger(n):\n",
    "    count = 0\n",
    "    if(n[0] == \"+\" or n[0] == \"-\" or (ord(n[0]) >= 45 and ord(n[0]) <= 57 )):\n",
    "        for i in range(1,len(n)):\n",
    "            print(n[i])\n",
    "            if(ord(n[i]) >= 45 and ord(n[i]) <= 57 or (n[i] == \" \")):\n",
    "               count += 1\n",
    "            \n",
    "        if(count == len(n)-1):\n",
    "            return True\n",
    "        else:\n",
    "            return False\n",
    "            \n",
    "    else:\n",
    "        return False\n",
    "print(isInteger(n))"
   ]
  }
 ],
 "metadata": {
  "kernelspec": {
   "display_name": "Python 3",
   "language": "python",
   "name": "python3"
  },
  "language_info": {
   "codemirror_mode": {
    "name": "ipython",
    "version": 3
   },
   "file_extension": ".py",
   "mimetype": "text/x-python",
   "name": "python",
   "nbconvert_exporter": "python",
   "pygments_lexer": "ipython3",
   "version": "3.8.8"
  }
 },
 "nbformat": 4,
 "nbformat_minor": 5
}
