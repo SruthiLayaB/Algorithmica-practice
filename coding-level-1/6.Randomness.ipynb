{
 "cells": [
  {
   "cell_type": "code",
   "execution_count": 37,
   "id": "6f3d19b7",
   "metadata": {
    "scrolled": true
   },
   "outputs": [
    {
     "name": "stdout",
     "output_type": "stream",
     "text": [
      "Try again\n"
     ]
    }
   ],
   "source": [
    "#Dice Rolling Brute force\n",
    "import random\n",
    "\n",
    "die1 = 0\n",
    "die2 = 0\n",
    "die3 = 0\n",
    "die4 = 0\n",
    "die5 = 0\n",
    "die6 = 0\n",
    "for i in range(5):\n",
    "    if(random.randint(1,6) == 1):\n",
    "        die1 += 1\n",
    "    if(random.randint(1,6) == 2):\n",
    "        die2 += 1\n",
    "    if(random.randint(1,6) == 3):\n",
    "        die3 += 1\n",
    "    if(random.randint(1,6) == 4):\n",
    "        die4 += 1\n",
    "    if(random.randint(1,6) == 5):\n",
    "        die5 += 1\n",
    "    if(random.randint(1,6) == 6):\n",
    "        die6 += 1\n",
    "if(die1 == 5 or die2 == 5 or die2 == 5 or die3 == 5 or die4 == 5 or die5 == 5 or die6 == 5):\n",
    "    print(\"Yahoo\")\n",
    "else:\n",
    "    print(\"Try again\")"
   ]
  },
  {
   "cell_type": "code",
   "execution_count": 116,
   "id": "37c35a58",
   "metadata": {},
   "outputs": [
    {
     "name": "stdout",
     "output_type": "stream",
     "text": [
      "yep\n",
      "yep\n",
      "yep\n",
      "yep\n",
      "yep\n",
      "yep\n",
      "yep\n"
     ]
    }
   ],
   "source": [
    "#Dice Rolling\n",
    "import random\n",
    "def rollDice():\n",
    "    l = []\n",
    "    for i in range(5):\n",
    "        l.append(random.randint(1,6))\n",
    "\n",
    "    if(l.count(l[0]) == 5):\n",
    "        return(\"Yahoo\")\n",
    "    else:\n",
    "        return(\"Try again\")\n",
    "count = 0\n",
    "while(count < 10000):\n",
    "    if(rollDice() == \"Yahoo\"):\n",
    "        print(\"yep\")\n",
    "   \n",
    "    count += 1\n",
    "    \n",
    "    \n"
   ]
  },
  {
   "cell_type": "code",
   "execution_count": 106,
   "id": "f28b282d",
   "metadata": {},
   "outputs": [
    {
     "name": "stdout",
     "output_type": "stream",
     "text": [
      "[2, 2, 2, 2, 2]\n"
     ]
    }
   ],
   "source": [
    "#How to get all elements same\n",
    "import random\n",
    "l = []\n",
    "dice = [1,2,3,4,5,6]\n",
    "result = random.choices(dice,weights = [0,6,0,0,0,0],k=5)\n",
    "l.append(result)\n",
    "print(result)"
   ]
  },
  {
   "cell_type": "code",
   "execution_count": 138,
   "id": "c5bd0e17",
   "metadata": {},
   "outputs": [
    {
     "name": "stdout",
     "output_type": "stream",
     "text": [
      "F ; T v G B 4  r h -\n"
     ]
    }
   ],
   "source": [
    "#Random Password\n",
    "import random\n",
    "l = []\n",
    "for i in range(random.randint(7,11)):\n",
    "    l.append(chr(random.randint(33,128)))\n",
    "print(*l)\n"
   ]
  },
  {
   "cell_type": "code",
   "execution_count": 32,
   "id": "d294767b",
   "metadata": {},
   "outputs": [
    {
     "name": "stdout",
     "output_type": "stream",
     "text": [
      " 8 1 2 0 A Q C \n"
     ]
    }
   ],
   "source": [
    "#Random License Plate\n",
    "import random\n",
    "\n",
    "def randomOldLincensePlate():\n",
    "    l = []\n",
    "    for i in range(3):\n",
    "        l.append(chr(random.randint(65,90)))\n",
    "    for i in range(4,7):\n",
    "        l.append(chr(random.randint(48,57)))\n",
    "    return l\n",
    "def randomNewLincensePlate():\n",
    "    l1 = []\n",
    "    for i in range(4):\n",
    "        l1.append(chr(random.randint(48,57)))\n",
    "    for i in range(4,7):\n",
    "        l1.append(chr(random.randint(65,90)))\n",
    "    return l1\n",
    "def randomLicensePlate():\n",
    "    result = \" \"\n",
    "    clist = [randomOldLincensePlate(),randomNewLincensePlate()]\n",
    "    temp = random.choices(clist,weights = [1,1])\n",
    "    for i in temp[0]:\n",
    "        result = result + i + \" \"\n",
    "    return result\n",
    "\n",
    "print(randomLicensePlate())\n",
    "'''Ncount =  0\n",
    "Ocount = 0\n",
    "for i in range(10):\n",
    "\n",
    "    if(len(randomLicensePlate()[0]) == 7):\n",
    "        Ncount += 1\n",
    "        print(\"ncount\",Ncount)\n",
    "    if(len(randomLicensePlate()[0]) == 6):\n",
    "        Ocount += 1\n",
    "        print(\"Ocount\",Ocount)\n",
    "print(Ncount,Ocount)'''\n",
    "\n",
    "        \n",
    " "
   ]
  },
  {
   "cell_type": "code",
   "execution_count": 51,
   "id": "8bc33a7d",
   "metadata": {},
   "outputs": [
    {
     "name": "stdout",
     "output_type": "stream",
     "text": [
      "paper\n",
      "4 4 2\n"
     ]
    }
   ],
   "source": [
    "# Rock paper Scissor\n",
    "import random\n",
    "s = input()\n",
    "s = s.lower()\n",
    "\n",
    "def getUserMove(s):\n",
    "    return s\n",
    "\n",
    "def getComputerMove():\n",
    "    l = [\"rock\",\"paper\",\"scissor\"]\n",
    "    move = random.choice(l)\n",
    "    return move\n",
    "\n",
    "def getResult(U,C):\n",
    "    if(U == C):\n",
    "        return 0\n",
    "    if(U == \"rock\" and C == \"scissor\"):\n",
    "        return 1\n",
    "    if(U == \"paper\" and C == \"rock\"):\n",
    "        return 1\n",
    "    if(U == \"scissor\" and C == \"paper\"):\n",
    "        return 1\n",
    "    else:\n",
    "        return -1\n",
    "\n",
    "\n",
    "win = 0\n",
    "loss = 0\n",
    "draw = 0\n",
    "for i in range(10):\n",
    "    U = getUserMove(s)\n",
    "    C =  getComputerMove()\n",
    "    if(getResult(U,C) == 1):\n",
    "        win += 1\n",
    "    if(getResult(U,C) == 0):\n",
    "        draw += 1\n",
    "    if(getResult(U,C) == -1):\n",
    "        loss += 1    \n",
    "    \n",
    "print(win,loss,draw) \n",
    "    \n",
    "        "
   ]
  },
  {
   "cell_type": "code",
   "execution_count": 10,
   "id": "f852e927",
   "metadata": {},
   "outputs": [
    {
     "name": "stdout",
     "output_type": "stream",
     "text": [
      "2 8 3.6\n"
     ]
    }
   ],
   "source": [
    "#Coin flips\n",
    "import random\n",
    "def getNumOfFlips():\n",
    "    prev = 10\n",
    "    flip = 1\n",
    "    while(True):\n",
    "        current = random.randint(0,1)\n",
    "        if(current == 0 and prev == 0 or current == 1 and prev == 1):\n",
    "            return flip\n",
    "        flip += 1\n",
    "        prev = current\n",
    "l = []\n",
    "for i in range(10):\n",
    "    l.append(getNumOfFlips())\n",
    "print(min(l),max(l),sum(l)/10.0)\n",
    "    "
   ]
  },
  {
   "cell_type": "code",
   "execution_count": null,
   "id": "2d0ffdae",
   "metadata": {},
   "outputs": [],
   "source": []
  },
  {
   "cell_type": "code",
   "execution_count": null,
   "id": "a6d4f17a",
   "metadata": {},
   "outputs": [],
   "source": []
  }
 ],
 "metadata": {
  "kernelspec": {
   "display_name": "Python 3",
   "language": "python",
   "name": "python3"
  },
  "language_info": {
   "codemirror_mode": {
    "name": "ipython",
    "version": 3
   },
   "file_extension": ".py",
   "mimetype": "text/x-python",
   "name": "python",
   "nbconvert_exporter": "python",
   "pygments_lexer": "ipython3",
   "version": "3.8.8"
  }
 },
 "nbformat": 4,
 "nbformat_minor": 5
}
