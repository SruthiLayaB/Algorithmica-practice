{
 "cells": [
  {
   "cell_type": "code",
   "execution_count": 23,
   "id": "f247d69c",
   "metadata": {},
   "outputs": [
    {
     "name": "stdout",
     "output_type": "stream",
     "text": [
      "input file name:abc.txt\n",
      "output file name:out\n"
     ]
    }
   ],
   "source": [
    "\n",
    "# To read a  file aand write in another file\n",
    "def readWrite(in_name, out_name):\n",
    "    inf = open(in_name, \"r\")\n",
    "    outf = open(out_name, \"w\")\n",
    "    for line in inf:\n",
    "        outf.write(line)\n",
    "    inf.close()\n",
    "    outf.close()\n",
    "\n",
    "in_name = input(\"input file name:\")\n",
    "out_name = input(\"output file name:\")\n",
    "readWrite(in_name, out_name)"
   ]
  },
  {
   "cell_type": "code",
   "execution_count": 20,
   "id": "a0965cb3",
   "metadata": {
    "collapsed": true
   },
   "outputs": [
    {
     "name": "stdout",
     "output_type": "stream",
     "text": [
      "input file name:sample.txt\n",
      "Types of Essays\n",
      "\n",
      "The type of essay will depend on what the writer wants to convey to his reader. There are broadly four types of essays. Let us see.\n",
      "\n",
      "\n",
      "\n",
      "Narrative Essays: This is when the writer is narrating an incident or story through the essay. So these are in the first person. The aim when \n",
      "\n",
      "writing narrative essays is to involve the reader in them as if they were right there when it was happening. So make them as vivid and real as \n",
      "\n",
      "possible. One way to make this possible is to follow the principle of â€˜show, donâ€™t tellâ€™. So you must involve the reader in the story.\n",
      "\n",
      "Descriptive Essays: Here the writer will describe a place, an object, an event or maybe even a memory. But it is not just plainly describing \n",
      "\n",
      "things. The writer must paint a picture through his words. One clever way to do that is to evoke the senses of the reader. Do not only rely on \n",
      "\n",
      "sight but also involve the other senses of smell, touch, sound etc. A descriptive essay when done well will make the reader feel the emotions \n",
      "\n",
      "the writer was feeling at the moment.\n",
      "\n",
      "None\n"
     ]
    }
   ],
   "source": [
    "#head of the file\n",
    "def head(in_name):\n",
    "    inf = open(in_name, \"r\")\n",
    "    linesList= inf.readlines()\n",
    "    for line in linesList[:10]:\n",
    "        print(line)\n",
    "    inf.close()\n",
    "\n",
    "in_name = input(\"input file name:\")\n",
    "\n",
    "print(head(in_name))"
   ]
  },
  {
   "cell_type": "code",
   "execution_count": 12,
   "id": "b18d1227",
   "metadata": {},
   "outputs": [
    {
     "name": "stdout",
     "output_type": "stream",
     "text": [
      "input file name:sample.txt\n",
      "output file name:m.txt\n"
     ]
    }
   ],
   "source": [
    "#Number of Files\n",
    "def numberLines(in_name, out_name):\n",
    "    inf = open(in_name, \"r\")\n",
    "    outf = open(out_name, \"w\")\n",
    "    linesList= inf.readlines()\n",
    "    lineNum = 1\n",
    "    for line in linesList[:]:\n",
    "        outf.write(str(lineNum))\n",
    "        outf.write(\": \")\n",
    "        outf.write(line)\n",
    "        lineNum += 1\n",
    "        \n",
    "    inf.close()\n",
    "    outf.close()\n",
    "\n",
    "in_name = input(\"input file name:\")\n",
    "out_name = input(\"output file name:\")\n",
    "numberLines(in_name, out_name)"
   ]
  },
  {
   "cell_type": "code",
   "execution_count": 17,
   "id": "d62a58b6",
   "metadata": {},
   "outputs": [
    {
     "name": "stdout",
     "output_type": "stream",
     "text": [
      "input file name:z.py\n",
      "output file name:out2.py\n"
     ]
    }
   ],
   "source": [
    "#Remove Comments\n",
    "def removeComments(in_name, out_name):\n",
    "    inf = open(in_name, \"r\")\n",
    "    outf = open(out_name, \"w\")\n",
    "    \n",
    "    for line in inf:\n",
    "        if(line[0:3] == \"def\"):\n",
    "            if(prev[0] == \"#\"):\n",
    "                outf.write(line[4:-2])\n",
    "        prev = line\n",
    "    \n",
    "\n",
    "            \n",
    "    inf.close()\n",
    "    outf.close()\n",
    "\n",
    "in_name = input(\"input file name:\")\n",
    "out_name = input(\"output file name:\")\n",
    "removeComments(in_name, out_name)\n"
   ]
  },
  {
   "cell_type": "code",
   "execution_count": null,
   "id": "f941ac55",
   "metadata": {},
   "outputs": [],
   "source": []
  },
  {
   "cell_type": "code",
   "execution_count": null,
   "id": "4bf3f938",
   "metadata": {},
   "outputs": [],
   "source": []
  }
 ],
 "metadata": {
  "kernelspec": {
   "display_name": "Python 3",
   "language": "python",
   "name": "python3"
  },
  "language_info": {
   "codemirror_mode": {
    "name": "ipython",
    "version": 3
   },
   "file_extension": ".py",
   "mimetype": "text/x-python",
   "name": "python",
   "nbconvert_exporter": "python",
   "pygments_lexer": "ipython3",
   "version": "3.8.8"
  }
 },
 "nbformat": 4,
 "nbformat_minor": 5
}
