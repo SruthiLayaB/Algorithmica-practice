{
 "cells": [
  {
   "cell_type": "code",
   "execution_count": 4,
   "id": "bb86eb74",
   "metadata": {},
   "outputs": [
    {
     "name": "stdout",
     "output_type": "stream",
     "text": [
      "abc\n",
      "7\n"
     ]
    }
   ],
   "source": [
    "#Scrabble Score\n",
    "n = input()\n",
    "n = n.upper()\n",
    "def wordScore(n):\n",
    "    baselen = [1,3,3,2,1,4,2,4,1,8,5,1,3,1,1,3,10,1,1,1,1,4,4,8,4,10]\n",
    "    sumScore = 0\n",
    "    for x in n:\n",
    "        pos = ord(x) - ord('A')\n",
    "        sumScore += baselen[pos]\n",
    "    return sumScore\n",
    "        \n",
    "print(wordScore(n))\n",
    "\n",
    "    "
   ]
  },
  {
   "cell_type": "code",
   "execution_count": 39,
   "id": "c807ac7b",
   "metadata": {},
   "outputs": [
    {
     "name": "stdout",
     "output_type": "stream",
     "text": [
      "bb\n",
      "2\n"
     ]
    }
   ],
   "source": [
    "n = input()\n",
    "count = 0\n",
    "flag = 0\n",
    "l = []\n",
    "baselen = [0, 0, 0, 0, 0, 0, 0, 0, 0, 0, 0, 0, 0, 0, 0, 0, 0, 0, 0, 0, 0, 0, 0, 0, 0, 0, 0, 0, 0, 0, 0, 0, 0, 0, 0, 0, 0, 0, 0, 0, 0, 0, 0, 0, 0, 0, 0, 0, 0, 0, 0, 0]\n",
    "for x in n:\n",
    "    if(ord(x) < 91):\n",
    "        pos = ord(x) - ord('A')\n",
    "        baselen[pos] += 1\n",
    "    if(ord(x) > 96 ):\n",
    "        pos = ord(x) - ord('a') + 26\n",
    "        baselen[pos] += 1\n",
    "        \n",
    "\n",
    "for x in baselen:\n",
    "    if(x % 2 == 0):\n",
    "        count += x\n",
    "    if(x % 2 != 0):\n",
    "        count += x -1\n",
    "        flag = 1\n",
    "if(flag >= 1):\n",
    "    count += 1\n",
    "else:\n",
    "    count = count\n",
    "\n",
    "\n",
    "print(count)  "
   ]
  },
  {
   "cell_type": "code",
   "execution_count": null,
   "id": "d2bf39b4",
   "metadata": {},
   "outputs": [],
   "source": []
  },
  {
   "cell_type": "code",
   "execution_count": 23,
   "id": "13b7f4f5",
   "metadata": {},
   "outputs": [
    {
     "name": "stdout",
     "output_type": "stream",
     "text": [
      "[0, 0, 0, 0, 0, 0, 0, 0, 0, 0, 0, 0, 0, 0, 0, 0, 0, 0, 0, 0, 0, 0, 0, 0, 0, 0, 0, 0, 0, 0, 0, 0, 0, 0, 0, 0, 0, 0, 0, 0, 0, 0, 0, 0, 0, 0, 0, 0, 0, 0, 0, 0]\n"
     ]
    }
   ],
   "source": []
  },
  {
   "cell_type": "code",
   "execution_count": 10,
   "id": "a0886c3a",
   "metadata": {},
   "outputs": [
    {
     "data": {
      "text/plain": [
       "25"
      ]
     },
     "execution_count": 10,
     "metadata": {},
     "output_type": "execute_result"
    }
   ],
   "source": []
  },
  {
   "cell_type": "code",
   "execution_count": null,
   "id": "1dc941d2",
   "metadata": {},
   "outputs": [],
   "source": []
  },
  {
   "cell_type": "code",
   "execution_count": null,
   "id": "7d0d1d1f",
   "metadata": {},
   "outputs": [],
   "source": []
  }
 ],
 "metadata": {
  "kernelspec": {
   "display_name": "Python 3",
   "language": "python",
   "name": "python3"
  },
  "language_info": {
   "codemirror_mode": {
    "name": "ipython",
    "version": 3
   },
   "file_extension": ".py",
   "mimetype": "text/x-python",
   "name": "python",
   "nbconvert_exporter": "python",
   "pygments_lexer": "ipython3",
   "version": "3.8.8"
  }
 },
 "nbformat": 4,
 "nbformat_minor": 5
}
