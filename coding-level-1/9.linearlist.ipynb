{
 "cells": [
  {
   "cell_type": "code",
   "execution_count": 6,
   "id": "f296e000",
   "metadata": {},
   "outputs": [
    {
     "name": "stdout",
     "output_type": "stream",
     "text": [
      "1\n",
      "2\n",
      "3\n",
      "4\n",
      "5\n",
      "6\n",
      "7\n",
      "8\n",
      "9\n",
      "0\n",
      "[1, 2, 3, 4, 5, 6, 7, 8, 9, 0]\n"
     ]
    }
   ],
   "source": [
    "#Sequence Of Numbers\n",
    "def getSeq():\n",
    "    lst = []\n",
    "    while(True):\n",
    "        n = int(input())\n",
    "        lst.append(n)\n",
    "        if(n == 0):\n",
    "            return lst\n",
    "print(getSeq())       "
   ]
  },
  {
   "cell_type": "code",
   "execution_count": 11,
   "id": "9394f20c",
   "metadata": {},
   "outputs": [
    {
     "name": "stdout",
     "output_type": "stream",
     "text": [
      "6\n",
      "mama\n",
      "papa\n",
      "123\n",
      "1\n",
      "2\n",
      "4\n",
      "['mama', 'papa']\n"
     ]
    }
   ],
   "source": [
    "#longest words\n",
    "def longestWords():\n",
    "    \n",
    "    lst = []\n",
    "    longestList = [\"\"]\n",
    "    n = int(input())\n",
    "    smax = 0\n",
    "    for i in range(0,n):\n",
    "        string = input()\n",
    "        lst.append(string)\n",
    "    for i in range(len(lst)):\n",
    "        if len(lst[i]) > smax:\n",
    "            smax = len(lst[i])\n",
    "            longestList.clear()\n",
    "            longestList.append(lst[i])\n",
    "    \n",
    "        elif len(lst[i]) == smax:\n",
    "            longestList.append(lst[i])\n",
    "    return longestList\n",
    "print(longestWords())"
   ]
  },
  {
   "cell_type": "code",
   "execution_count": 15,
   "id": "306aa16b",
   "metadata": {},
   "outputs": [
    {
     "name": "stdout",
     "output_type": "stream",
     "text": [
      "123{}90*23(]\n",
      "12\n",
      "['123', '{', '}', '90', '*', '23', '(', ']']\n"
     ]
    }
   ],
   "source": [
    "#Tokenization\n",
    "string = input()\n",
    "def tokenize(string):\n",
    "    lst = []\n",
    "    istring = \"\"\n",
    "    cstring = \"\"\n",
    "    print(len(string))\n",
    "    \n",
    "    for i in range(len(string)):\n",
    "        \n",
    "        if(ord(string[i]) >= 48 and ord(string[i]) <= 57):\n",
    "            istring += string[i]\n",
    "        else:\n",
    "            cstring+= string[i]\n",
    "            if(istring != \"\"):\n",
    "                lst.append(istring)\n",
    "            lst.append(cstring)\n",
    "            istring = \"\"\n",
    "            cstring = \"\"\n",
    "            \n",
    "    if(lst == []):\n",
    "        lst.append(istring)\n",
    "        return lst\n",
    "    else:\n",
    "        return lst\n",
    "print(tokenize(string))"
   ]
  },
  {
   "cell_type": "code",
   "execution_count": null,
   "id": "7ba7c8e9",
   "metadata": {},
   "outputs": [],
   "source": []
  }
 ],
 "metadata": {
  "kernelspec": {
   "display_name": "Python 3",
   "language": "python",
   "name": "python3"
  },
  "language_info": {
   "codemirror_mode": {
    "name": "ipython",
    "version": 3
   },
   "file_extension": ".py",
   "mimetype": "text/x-python",
   "name": "python",
   "nbconvert_exporter": "python",
   "pygments_lexer": "ipython3",
   "version": "3.8.8"
  }
 },
 "nbformat": 4,
 "nbformat_minor": 5
}
