{
 "cells": [
  {
   "cell_type": "code",
   "execution_count": 1,
   "id": "c351bc22",
   "metadata": {},
   "outputs": [
    {
     "name": "stdout",
     "output_type": "stream",
     "text": [
      "3\n",
      "4\n",
      "5.0\n"
     ]
    }
   ],
   "source": [
    "#Compute the Hypotenuse\n",
    "import math\n",
    "adj = int(input())\n",
    "opp = int(input())\n",
    "def getHypotenuse(adj,opp):\n",
    "    hyp = (adj)**2 + (opp)** 2\n",
    "    return math.sqrt(hyp)\n",
    "print(getHypotenuse(adj,opp))\n"
   ]
  },
  {
   "cell_type": "code",
   "execution_count": 3,
   "id": "e9849bc7",
   "metadata": {},
   "outputs": [
    {
     "name": "stdout",
     "output_type": "stream",
     "text": [
      "1 \n",
      "6\n",
      "2\n",
      "False\n"
     ]
    }
   ],
   "source": [
    "#Is it valid triangle?\n",
    "s1 = int(input())\n",
    "s2 = int(input())\n",
    "s3 = int(input())\n",
    "def ValidTriangle(s1,s2,s3):\n",
    "    return (s1 < s2+ s3 and  s2 < s1 + s3 and s3 < s1 + s2)\n",
    "print(ValidTriangle(s1,s2,s3))\n"
   ]
  },
  {
   "cell_type": "code",
   "execution_count": 8,
   "id": "5e6cabbf",
   "metadata": {},
   "outputs": [
    {
     "name": "stdout",
     "output_type": "stream",
     "text": [
      "10\n",
      "Not prime\n"
     ]
    }
   ],
   "source": [
    "#Is prime?\n",
    "n = int(input())\n",
    "def isPrime(n):\n",
    "    count = 0\n",
    "    for i in range(2,n):\n",
    "        if(n % i == 0):\n",
    "           count += 1\n",
    "    if(count >= 1):\n",
    "        return(\"Not prime\")\n",
    "    else:\n",
    "        return (\"prime\")\n",
    "print(isPrime(n))"
   ]
  },
  {
   "cell_type": "code",
   "execution_count": 24,
   "id": "a527c870",
   "metadata": {},
   "outputs": [
    {
     "name": "stdout",
     "output_type": "stream",
     "text": [
      "10\n",
      "11\n"
     ]
    }
   ],
   "source": [
    "#Next Prime\n",
    "n = int(input())\n",
    "def isPrime(n):\n",
    "    count = 0\n",
    "    for i in range(2,n):\n",
    "        if(n % i == 0):\n",
    "           count += 1\n",
    "    if(count >= 1):\n",
    "        return False\n",
    "    else:\n",
    "        return True\n",
    "def nextPrime(n):\n",
    "    while(n+1):\n",
    "        if(isPrime(n) == True):\n",
    "            return (n)\n",
    "            break\n",
    "        else:\n",
    "            n += 1\n",
    "print(nextPrime(n))"
   ]
  },
  {
   "cell_type": "code",
   "execution_count": 29,
   "id": "24586d54",
   "metadata": {},
   "outputs": [
    {
     "name": "stdout",
     "output_type": "stream",
     "text": [
      "Bukkasamudram\n",
      "False\n"
     ]
    }
   ],
   "source": [
    "#Check Password\n",
    "s = input()\n",
    "def checkPassword(s):\n",
    "    lcount = 0\n",
    "    ucount = 0\n",
    "    ncount = 0\n",
    "    if(len(s) <= 8):\n",
    "        return False\n",
    "    for x in s:\n",
    "        if(ord(x) >= 97 and ord(x) <= 122):\n",
    "            lcount += 1\n",
    "        if(ord(x) >= 65 and ord(x) <= 90):\n",
    "            ucount += 1\n",
    "        if(ord(x) >= 49 and ord(x) <= 57):\n",
    "            ncount += 1\n",
    "    if(lcount >= 1 and ucount >=1 and ncount >= 1):\n",
    "        return True\n",
    "    else:\n",
    "        return False\n",
    "print(checkPassword(s))"
   ]
  }
 ],
 "metadata": {
  "kernelspec": {
   "display_name": "Python 3",
   "language": "python",
   "name": "python3"
  },
  "language_info": {
   "codemirror_mode": {
    "name": "ipython",
    "version": 3
   },
   "file_extension": ".py",
   "mimetype": "text/x-python",
   "name": "python",
   "nbconvert_exporter": "python",
   "pygments_lexer": "ipython3",
   "version": "3.8.8"
  }
 },
 "nbformat": 4,
 "nbformat_minor": 5
}
