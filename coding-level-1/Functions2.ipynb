{
 "cells": [
  {
   "cell_type": "code",
   "execution_count": 11,
   "id": "f5c00f11",
   "metadata": {},
   "outputs": [
    {
     "name": "stdout",
     "output_type": "stream",
     "text": [
      "6\n",
      "28\n",
      "496\n",
      "8128\n"
     ]
    }
   ],
   "source": [
    "#Perfect numbers\n",
    "\n",
    "def isPerfect(n):\n",
    "    sum1 = 0\n",
    "    for i in range(1,n):\n",
    "        if(n % i == 0):\n",
    "            sum1 += i\n",
    "    if(sum1 == n):\n",
    "        return True\n",
    "    else:\n",
    "        return False\n",
    "\n",
    "for t in range(1,10000):\n",
    "    if(isPerfect(t)):\n",
    "        print(t)\n",
    "    n += 1\n"
   ]
  },
  {
   "cell_type": "code",
   "execution_count": 7,
   "id": "b155d684",
   "metadata": {},
   "outputs": [
    {
     "name": "stdout",
     "output_type": "stream",
     "text": [
      "1\n",
      "3\n",
      "4\n",
      "5\n",
      "6\n",
      "9\n",
      "False\n"
     ]
    }
   ],
   "source": [
    "#Collinear Points\n",
    "x1 = int(input())\n",
    "y1 = int(input())\n",
    "x2 = int(input())\n",
    "y2 = int(input())\n",
    "x3 = int(input())\n",
    "y3 = int(input())\n",
    "def isCollinear(x1,y1,x2,y2,x3,y3):\n",
    "    slope1 = (y2 - y1)/ (x2 - x1)\n",
    "    slope2 =  (y3 - y2)/(x3 - x2)\n",
    "    if( slope1 == slope2):\n",
    "        return True\n",
    "    else:\n",
    "        return False\n",
    "\n",
    "print(isCollinear(x1,y1,x2,y2,x3,y3))"
   ]
  },
  {
   "cell_type": "code",
   "execution_count": 61,
   "id": "7df4865f",
   "metadata": {},
   "outputs": [
    {
     "name": "stdout",
     "output_type": "stream",
     "text": [
      "3\n",
      "16\n",
      "120\n",
      "F \n"
     ]
    }
   ],
   "source": [
    "#Arbitary Base Conversions\n",
    "\n",
    "base1 = int(input())\n",
    "base2 = int(input())\n",
    "target = int(input())\n",
    "\n",
    "\n",
    "def convertBase(base1,base2,target):\n",
    "    decimal = 0\n",
    "    i = 0\n",
    "    while(target > 0):\n",
    "        digit = target % 10\n",
    "        pow = digit*(base1 ** i)\n",
    "        decimal += pow\n",
    "        target = target // 10\n",
    "        i += 1\n",
    "    result = \" \"\n",
    "    while(decimal > 0):\n",
    "        r = decimal % base2\n",
    "        if(r >= 10 and r <= 16):\n",
    "            r = (chr(r + 55))\n",
    "        decimal = decimal // base2\n",
    "        result = str(r) + result\n",
    "    return(result)\n",
    "print(convertBase(base1,base2,target))\n",
    "\n",
    "\n",
    "\n",
    "        \n",
    "    \n",
    "        "
   ]
  },
  {
   "cell_type": "code",
   "execution_count": 64,
   "id": "6bf52be2",
   "metadata": {},
   "outputs": [
    {
     "name": "stdout",
     "output_type": "stream",
     "text": [
      "5\n",
      "1\n",
      "0\n",
      "1\n"
     ]
    }
   ],
   "source": [
    "#Median of 3 values\n",
    "a = int(input())\n",
    "b = int(input())\n",
    "c = int(input())\n",
    "def medianOfThree(a,b,c):\n",
    "    if(a > b):\n",
    "        if(b > c):\n",
    "            return(b)\n",
    "        elif(c > b):\n",
    "            if(a > c):\n",
    "                return(c)\n",
    "            else:\n",
    "                return(a)\n",
    "    elif(b > a):\n",
    "        if(a > c):\n",
    "            return(a)\n",
    "        elif(c > a):\n",
    "            if(b > c):\n",
    "                return(c)\n",
    "            else:\n",
    "                return(b)\n",
    "print(medianOfThree(a,b,c))\n",
    "        \n",
    "        "
   ]
  },
  {
   "cell_type": "code",
   "execution_count": 72,
   "id": "9b9a084b",
   "metadata": {},
   "outputs": [
    {
     "name": "stdout",
     "output_type": "stream",
     "text": [
      "5\n",
      "3.1396825396825396\n"
     ]
    }
   ],
   "source": [
    "#Approximate PI\n",
    "n = int(input())\n",
    "def approximatePI(n):\n",
    "    sign = 1\n",
    "    sum1 = 3\n",
    "    d = 2\n",
    "    if(n == 1):\n",
    "        return(3)\n",
    "    else:\n",
    "        for i in range(2,n+1):\n",
    "            term = 4/(d*(d+1)*(d+2))\n",
    "            sum1 = sum1 + sign*term\n",
    "            sign = (-1)*sign\n",
    "            d += 2\n",
    "    return sum1\n",
    "print(approximatePI(n))\n",
    "        \n",
    "        "
   ]
  },
  {
   "cell_type": "code",
   "execution_count": null,
   "id": "eeb2f72c",
   "metadata": {},
   "outputs": [],
   "source": []
  }
 ],
 "metadata": {
  "kernelspec": {
   "display_name": "Python 3",
   "language": "python",
   "name": "python3"
  },
  "language_info": {
   "codemirror_mode": {
    "name": "ipython",
    "version": 3
   },
   "file_extension": ".py",
   "mimetype": "text/x-python",
   "name": "python",
   "nbconvert_exporter": "python",
   "pygments_lexer": "ipython3",
   "version": "3.8.8"
  }
 },
 "nbformat": 4,
 "nbformat_minor": 5
}
