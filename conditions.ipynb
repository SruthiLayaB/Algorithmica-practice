{
 "cells": [
  {
   "cell_type": "code",
   "execution_count": 37,
   "id": "32e91a53",
   "metadata": {},
   "outputs": [
    {
     "name": "stdout",
     "output_type": "stream",
     "text": [
      "100\n",
      "Even\n"
     ]
    }
   ],
   "source": [
    "#Even or odd\n",
    "n = int(input())\n",
    "if( n % 2 == 0):\n",
    "    print(\"Even\")\n",
    "else:\n",
    "    print(\"odd\")\n"
   ]
  },
  {
   "cell_type": "code",
   "execution_count": 39,
   "id": "c228f498",
   "metadata": {},
   "outputs": [
    {
     "name": "stdout",
     "output_type": "stream",
     "text": [
      "A\n",
      "consonant\n"
     ]
    }
   ],
   "source": [
    "#Vowel or consonant\n",
    "Alpha = input()\n",
    "if(Alpha == \"a\" or Alpha == \"e\"  or Alpha == \"i\" or Alpha == \"o\" or Alpha == \"u\"):\n",
    "    print(\"vowel\")\n",
    "elif(Alpha == \"y\"):\n",
    "    print(\"sometime vowel and sometimes consonant\")\n",
    "else:\n",
    "    print(\"consonant\")"
   ]
  },
  {
   "cell_type": "code",
   "execution_count": null,
   "id": "6b6c4f02",
   "metadata": {
    "scrolled": true
   },
   "outputs": [],
   "source": [
    "#Classifying Triangle\n",
    "s1 = int(input())\n",
    "s2 = int(input())\n",
    "s3 = int(input())\n",
    "\n",
    "if( s1 == s2 and s1 == s3 and s2 == s3):\n",
    "    print(\"equilateral\")\n",
    "elif(s1 == s2 or s1 == s3 or s2 == s3):\n",
    "    print('isosceles')\n",
    "else:\n",
    "    print(\"scalene\")\n",
    "\n"
   ]
  },
  {
   "cell_type": "code",
   "execution_count": null,
   "id": "df27d3b4",
   "metadata": {},
   "outputs": [],
   "source": [
    "#month names to No of Days\n",
    "month = input()\n",
    "if(month == \"January\" or month == \"March\" or month == \"May\" or month == \"July\" or month == \"August\" or month == \"October\" or month == \"December\" ):\n",
    "    print(\"31 days\")\n",
    "elif(month == \"Febrauary\"):\n",
    "    print(\"28 OR 31 days\")\n",
    "elif(month == \"April\" or month == \"June\" or month == \"September\" or month == \"November\"):\n",
    "     print(\"30 days\")"
   ]
  },
  {
   "cell_type": "code",
   "execution_count": 4,
   "id": "c335c992",
   "metadata": {},
   "outputs": [
    {
     "name": "stdout",
     "output_type": "stream",
     "text": [
      "1234SVC\n",
      "New style lisense plate\n"
     ]
    }
   ],
   "source": [
    "#License Plate Valid or Not\n",
    "n = input()\n",
    "if(len(n) == 6):\n",
    "    if(n[0:2].isupper() and n[3:5].isdigit()):\n",
    "       print(\"Older style lisense plate\")\n",
    "    else:\n",
    "       print(\"Invalid linsense plate\")\n",
    "if(len(n) == 7):\n",
    "    if(n[3:6].isupper() and n[0:2].isdigit()):\n",
    "       print(\"New style lisense plate\")\n",
    "    else:\n",
    "       print(\"Invalid linsense plate\")\n",
    "\n"
   ]
  },
  {
   "cell_type": "code",
   "execution_count": 36,
   "id": "a9226c78",
   "metadata": {
    "scrolled": true
   },
   "outputs": [
    {
     "name": "stdout",
     "output_type": "stream",
     "text": [
      "123\n"
     ]
    }
   ],
   "source": [
    "#License Plate Valid or Notn = input()\n",
    "n = input()\n",
    "if(len(n) == 6):\n",
    "    if(n[0] )"
   ]
  },
  {
   "cell_type": "code",
   "execution_count": 29,
   "id": "44909cf6",
   "metadata": {},
   "outputs": [
    {
     "name": "stdout",
     "output_type": "stream",
     "text": [
      "d5\n",
      "white\n"
     ]
    }
   ],
   "source": [
    "#Color of Square\n",
    "n = input()\n",
    "if(int(n[1]) % 2 == 0):\n",
    "    if(n[0] == \"a\" or n[0] == \"c\"  or n[0] == \"e\" or n[0] == \"g\"):\n",
    "        print(\"white\")\n",
    "    else:\n",
    "        print(\"black\")\n",
    "if(int(n[1]) % 2 != 0):\n",
    "    if(n[0] == \"a\" or n[0] == \"c\"  or n[0] == \"e\" or n[0] == \"g\"):\n",
    "        print(\"black\")\n",
    "    else:\n",
    "        print(\"white\")"
   ]
  },
  {
   "cell_type": "code",
   "execution_count": 33,
   "id": "d6c9853d",
   "metadata": {},
   "outputs": [
    {
     "name": "stdout",
     "output_type": "stream",
     "text": [
      "June\n",
      "25\n",
      "Summer\n"
     ]
    }
   ],
   "source": [
    "#Season from Month and Day\n",
    "month = input()\n",
    "day = int(input())\n",
    "if(month == \"March\"):\n",
    "    if(day >= 20):\n",
    "        print(\"Spring\")\n",
    "if(month == \"April\" or month == \"May\"):\n",
    "    print(\"Spring\")\n",
    "if(month == \"June\"):\n",
    "    if(day <= 20):\n",
    "        print(\"Spring\")\n",
    "    else:\n",
    "        print(\"Summer\")\n",
    "if(month == \"July\" or month == \"August\"):\n",
    "    print(\"Summer\")\n",
    "if(month == \"September\"):\n",
    "    if(day <= 21):\n",
    "        print(\"Summer\")\n",
    "    else:\n",
    "        print(\"fall\")\n",
    "if(month == \"October\" or month == \"November\"):\n",
    "    print(\"fall\")\n",
    "if(month == \"December\"):\n",
    "    if(day <= 20):\n",
    "        print(\"fall\")\n",
    "    else:\n",
    "        print(\"Winter\")\n",
    "if(month == \"January\" or month == \"Febrauary\"):\n",
    "    print(\"Winter\")\n",
    "\n",
    "\n",
    "\n",
    "\n",
    "\n",
    "        \n",
    "    "
   ]
  },
  {
   "cell_type": "code",
   "execution_count": 34,
   "id": "707c13d7",
   "metadata": {},
   "outputs": [
    {
     "name": "stdout",
     "output_type": "stream",
     "text": [
      "June\n",
      "4\n",
      "Gemini\n"
     ]
    }
   ],
   "source": [
    "#Birth Date to Astrological Sign\n",
    "month = input()\n",
    "day = int(input())\n",
    "if(month == \"December\"):\n",
    "    if(day >= 22):\n",
    "        print(\"Capricorn\")\n",
    "if(month == \"January\"):\n",
    "    if(day <= 19):\n",
    "        print(\"Capricorn\")\n",
    "    else:\n",
    "        print(\"Aquarius\")\n",
    "if(month == \"February\"):\n",
    "    if(day <= 18):\n",
    "        print(\"Aquaris\")\n",
    "    else:\n",
    "        print(\"Pisces\")\n",
    "if(month == \"March\"):\n",
    "    if(day <= 20):\n",
    "        print(\"Pisces\")\n",
    "    else:\n",
    "        print(\"Aries\")\n",
    "if(month == \"April\"):\n",
    "    if(day <= 19):\n",
    "        print(\"Aries\")\n",
    "    else:\n",
    "        print(\"Taurus\")\n",
    "if(month == \"May\"):\n",
    "    if(day <= 20):\n",
    "        print(\"Taurus\")\n",
    "    else:\n",
    "        print(\"Gemini\")\n",
    "if(month == \"June\"):\n",
    "    if(day <= 20):\n",
    "        print(\"Gemini\")\n",
    "    else:\n",
    "        print(\"Cancer\")\n",
    "if(month == \"July\"):\n",
    "    if(day <= 22):\n",
    "        print(\"Cancer\")\n",
    "    else:\n",
    "        print(\"Leo\")\n",
    "if(month == \"August\"):\n",
    "    if(day <= 22):\n",
    "        print(\"Leo\")\n",
    "    else:\n",
    "        print(\"Virgo\")\n",
    "if(month == \"September\"):\n",
    "    if(day <= 22):\n",
    "        print(\"Virgo\")\n",
    "    else:\n",
    "        print(\"Libra\")\n",
    "if(month == \"October\"):\n",
    "    if(day <= 22):\n",
    "        print(\"Libra\")\n",
    "    else:\n",
    "        print(\"Scorpio\")\n",
    "if(month == \"November\"):\n",
    "    if(day <= 21):\n",
    "        print(\"Scorpio\")\n",
    "    else:\n",
    "        print(\"Sagittarius\")\n",
    "if(month == \"December\"):\n",
    "    if(day <= 21):\n",
    "        print(\"sagittarius\")\n",
    "  \n",
    "\n",
    "\n",
    "\n",
    "\n",
    "\n",
    "\n",
    "\n",
    "\n",
    "\n",
    "\n",
    "\n",
    "\n",
    "\n",
    "    \n"
   ]
  },
  {
   "cell_type": "code",
   "execution_count": 31,
   "id": "f79f50af",
   "metadata": {},
   "outputs": [
    {
     "name": "stdout",
     "output_type": "stream",
     "text": [
      "2000\n",
      "leap year\n"
     ]
    }
   ],
   "source": [
    "#Leap Year or Not\n",
    "n = int(input())\n",
    "if(n % 400 == 0):\n",
    "    print(\"leap year\")\n",
    "elif(n % 100 == 0):\n",
    "    print(\"Not leap year\")\n",
    "elif(n % 4 == 0):\n",
    "    print(\"leap year\")\n",
    "else:\n",
    "    print(\"Not leap year\")"
   ]
  },
  {
   "cell_type": "code",
   "execution_count": 18,
   "id": "29dcd6f4",
   "metadata": {},
   "outputs": [
    {
     "name": "stdout",
     "output_type": "stream",
     "text": [
      "600\n",
      "Orange\n"
     ]
    }
   ],
   "source": [
    "#wavelengths of Vsibile light\n",
    "n = int(input())\n",
    "if( n < 380):\n",
    "    print(\"Enter The Value in the range of Visible Sepctrum\")\n",
    "if(n >= 380 and n < 450):\n",
    "    print(\"Violet\")\n",
    "if(n >= 450 and n < 495):\n",
    "    print(\"Blue\")\n",
    "if(n >= 495 and n < 570):\n",
    "    print(\"Green\")\n",
    "if(n >= 570 and n < 590):\n",
    "    print(\"Yellow\")\n",
    "if(n >= 590 and n < 620):\n",
    "    print(\"Orange\")\n",
    "if(n >= 620 and n < 750):\n",
    "    print(\"Red\")\n",
    "if( n > 750):\n",
    "    print(\"Enter The Value in the range of Visible Sepctrum\")"
   ]
  },
  {
   "cell_type": "code",
   "execution_count": 2,
   "id": "cee34d18",
   "metadata": {},
   "outputs": [
    {
     "name": "stdout",
     "output_type": "stream",
     "text": [
      "True\n"
     ]
    }
   ],
   "source": []
  },
  {
   "cell_type": "code",
   "execution_count": 27,
   "id": "158c4b69",
   "metadata": {},
   "outputs": [
    {
     "name": "stdout",
     "output_type": "stream",
     "text": [
      "121\n"
     ]
    }
   ],
   "source": []
  },
  {
   "cell_type": "code",
   "execution_count": null,
   "id": "600f56b0",
   "metadata": {},
   "outputs": [],
   "source": []
  }
 ],
 "metadata": {
  "kernelspec": {
   "display_name": "Python 3",
   "language": "python",
   "name": "python3"
  },
  "language_info": {
   "codemirror_mode": {
    "name": "ipython",
    "version": 3
   },
   "file_extension": ".py",
   "mimetype": "text/x-python",
   "name": "python",
   "nbconvert_exporter": "python",
   "pygments_lexer": "ipython3",
   "version": "3.8.8"
  }
 },
 "nbformat": 4,
 "nbformat_minor": 5
}
